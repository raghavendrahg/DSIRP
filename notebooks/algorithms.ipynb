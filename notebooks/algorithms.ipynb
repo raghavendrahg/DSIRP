{
  "cells": [
    {
      "cell_type": "markdown",
      "metadata": {
        "id": "view-in-github",
        "colab_type": "text"
      },
      "source": [
        "<a href=\"https://colab.research.google.com/github/raghavendrahg/DSIRP/blob/raghug-work/notebooks/algorithms.ipynb\" target=\"_parent\"><img src=\"https://colab.research.google.com/assets/colab-badge.svg\" alt=\"Open In Colab\"/></a>"
      ]
    },
    {
      "cell_type": "markdown",
      "metadata": {
        "id": "OEqNvcuBYoxM"
      },
      "source": [
        "# Algorithms"
      ]
    },
    {
      "cell_type": "markdown",
      "metadata": {
        "id": "3o9knIykYoxP"
      },
      "source": [
        "[Click here to run this chapter on Colab](https://colab.research.google.com/github/AllenDowney/DSIRP/blob/main/notebooks/algorithms.ipynb)"
      ]
    },
    {
      "cell_type": "markdown",
      "metadata": {
        "id": "sCvHEvzdYoxQ"
      },
      "source": [
        "## Searching for anagrams\n",
        "\n",
        "In this notebook we'll implement algorithms for two tasks:\n",
        "\n",
        "* Testing a pair of words to see if they are anagrams of each other, that is, if you can rearrange the letters in one word to spell the other.\n",
        "\n",
        "* Searching a list of words for all pairs that are anagrams of each other.\n",
        "\n",
        "There is a point to these examples, which I will explain at the end."
      ]
    },
    {
      "cell_type": "markdown",
      "metadata": {
        "id": "DL6TQYX2YoxR"
      },
      "source": [
        "**Exercise 1:** Write a function that takes two words and returns `True` if they are anagrams. Test your function with the examples below."
      ]
    },
    {
      "cell_type": "code",
      "execution_count": 6,
      "metadata": {
        "id": "RVH8K0fSYoxR",
        "outputId": "4de954fb-df60-4b57-decd-79aa278acec2",
        "colab": {
          "base_uri": "https://localhost:8080/"
        }
      },
      "outputs": [
        {
          "output_type": "stream",
          "name": "stdout",
          "text": [
            "True\n",
            "False\n",
            "False\n",
            "False\n",
            "False\n"
          ]
        }
      ],
      "source": [
        "def is_anagram(word1, word2):\n",
        "    if sorted(word1) == sorted(word2):\n",
        "      return True\n",
        "    return False\n",
        "\n",
        "print (is_anagram('tachymetric', 'mccarthyite'))\n",
        "print(is_anagram('post', 'top'))\n",
        "print(is_anagram('pott', 'top'))\n",
        "print(is_anagram('top', 'post'))\n",
        "print(is_anagram('topss', 'postt'))"
      ]
    },
    {
      "cell_type": "code",
      "execution_count": null,
      "metadata": {
        "id": "YVV0IoWoYoxS"
      },
      "outputs": [],
      "source": [
        ""
      ]
    },
    {
      "cell_type": "code",
      "execution_count": null,
      "metadata": {
        "id": "JlXiOL-CYoxS"
      },
      "outputs": [],
      "source": [
        ""
      ]
    },
    {
      "cell_type": "code",
      "execution_count": null,
      "metadata": {
        "id": "a4n-5KihYoxT"
      },
      "outputs": [],
      "source": [
        ""
      ]
    },
    {
      "cell_type": "code",
      "execution_count": null,
      "metadata": {
        "id": "qzLFHowoYoxU"
      },
      "outputs": [],
      "source": [
        "is_anagram('post', 'top') # False, letter not present"
      ]
    },
    {
      "cell_type": "code",
      "execution_count": null,
      "metadata": {
        "id": "fWMczj5IYoxV"
      },
      "outputs": [],
      "source": [
        "is_anagram('pott', 'top') # False, letter present but not enough copies"
      ]
    },
    {
      "cell_type": "code",
      "execution_count": null,
      "metadata": {
        "id": "E4eDWOUlYoxV"
      },
      "outputs": [],
      "source": [
        "is_anagram('top', 'post') # False, letters left over at the end"
      ]
    },
    {
      "cell_type": "code",
      "execution_count": null,
      "metadata": {
        "id": "_YKXTZT4YoxW"
      },
      "outputs": [],
      "source": [
        "is_anagram('topss', 'postt') # False"
      ]
    },
    {
      "cell_type": "markdown",
      "metadata": {
        "id": "vqib1GwLYoxW"
      },
      "source": [
        "**Exercise 2:** Use `timeit` to see how fast your function is for these examples:"
      ]
    },
    {
      "cell_type": "code",
      "execution_count": null,
      "metadata": {
        "id": "4V7zX9Q7YoxW"
      },
      "outputs": [],
      "source": [
        "%timeit is_anagram('tops', 'spot')"
      ]
    },
    {
      "cell_type": "code",
      "execution_count": null,
      "metadata": {
        "id": "60Vc6pKmYoxW"
      },
      "outputs": [],
      "source": [
        "%timeit is_anagram('tachymetric', 'mccarthyite')"
      ]
    },
    {
      "cell_type": "markdown",
      "metadata": {
        "id": "hAotTWp8YoxX"
      },
      "source": [
        "How can we compare algorithms running on different computers?"
      ]
    },
    {
      "cell_type": "markdown",
      "metadata": {
        "id": "yE-caw0EYoxX"
      },
      "source": [
        "## Searching for anagram pairs"
      ]
    },
    {
      "cell_type": "markdown",
      "metadata": {
        "id": "hhyI_64pYoxX"
      },
      "source": [
        "**Exercise 3:** Write a function that takes a word list and returns a list of all anagram pairs."
      ]
    },
    {
      "cell_type": "code",
      "execution_count": null,
      "metadata": {
        "id": "m3aHiFY0YoxX"
      },
      "outputs": [],
      "source": [
        "short_word_list = ['proudest', 'stop', 'pots', 'tops', 'sprouted']"
      ]
    },
    {
      "cell_type": "code",
      "execution_count": null,
      "metadata": {
        "id": "JzliP212YoxX"
      },
      "outputs": [],
      "source": [
        "def all_anagram_pairs(word_list):\n",
        "    return []"
      ]
    },
    {
      "cell_type": "code",
      "execution_count": null,
      "metadata": {
        "id": "SvlurNQLYoxY"
      },
      "outputs": [],
      "source": [
        ""
      ]
    },
    {
      "cell_type": "code",
      "execution_count": null,
      "metadata": {
        "id": "yZJHubsLYoxY"
      },
      "outputs": [],
      "source": [
        "all_anagram_pairs(short_word_list)"
      ]
    },
    {
      "cell_type": "markdown",
      "metadata": {
        "id": "f9iYmemPYoxY"
      },
      "source": [
        "The following cell downloads a file containing a list of English words."
      ]
    },
    {
      "cell_type": "code",
      "execution_count": null,
      "metadata": {
        "id": "VfdO4db2YoxY"
      },
      "outputs": [],
      "source": [
        "from os.path import basename, exists\n",
        "\n",
        "def download(url):\n",
        "    filename = basename(url)\n",
        "    if not exists(filename):\n",
        "        from urllib.request import urlretrieve\n",
        "        local, _ = urlretrieve(url, filename)\n",
        "        print('Downloaded ' + local)\n",
        "    \n",
        "download('https://github.com/AllenDowney/DSIRP/raw/main/american-english')"
      ]
    },
    {
      "cell_type": "markdown",
      "metadata": {
        "id": "wVOuzBY7YoxY"
      },
      "source": [
        "The following function reads a file and returns a set of words (I used a set because after we convert words to lower case, there are some repeats.)"
      ]
    },
    {
      "cell_type": "code",
      "execution_count": null,
      "metadata": {
        "id": "YWG9Xt7PYoxZ"
      },
      "outputs": [],
      "source": [
        "def read_words(filename):\n",
        "    \"\"\"Read lines from a file and split them into words.\"\"\"\n",
        "    res = set()\n",
        "    for line in open(filename):\n",
        "        for word in line.split():\n",
        "            res.add(word.strip().lower())\n",
        "    return res"
      ]
    },
    {
      "cell_type": "code",
      "execution_count": null,
      "metadata": {
        "id": "sQZuSjBfYoxZ"
      },
      "outputs": [],
      "source": [
        "word_list = read_words('american-english')\n",
        "len(word_list)"
      ]
    },
    {
      "cell_type": "markdown",
      "metadata": {
        "id": "_UdNLZ1lYoxZ"
      },
      "source": [
        "**Exercise 4:** Loop through the word list and print all words that are anagrams of `stop`."
      ]
    },
    {
      "cell_type": "code",
      "execution_count": null,
      "metadata": {
        "id": "sigbrG3qYoxZ"
      },
      "outputs": [],
      "source": [
        ""
      ]
    },
    {
      "cell_type": "markdown",
      "metadata": {
        "id": "GjrDBwn6YoxZ"
      },
      "source": [
        "Now run `all_anagram_pairs` with the full `word_list`:"
      ]
    },
    {
      "cell_type": "code",
      "execution_count": null,
      "metadata": {
        "id": "KnWooCvHYoxZ"
      },
      "outputs": [],
      "source": [
        "# pairs = all_anagram_pairs(word_list)"
      ]
    },
    {
      "cell_type": "markdown",
      "metadata": {
        "id": "e_p1-PgDYoxZ"
      },
      "source": [
        "**Exercise 5:** While that's running, let's estimate how long it's going to take."
      ]
    },
    {
      "cell_type": "code",
      "execution_count": null,
      "metadata": {
        "id": "Mw2T15eyYoxa"
      },
      "outputs": [],
      "source": [
        ""
      ]
    },
    {
      "cell_type": "markdown",
      "metadata": {
        "id": "Jr2c6rQ_Yoxa"
      },
      "source": [
        "## A better algorithm\n",
        "\n",
        "**Exercise 6:** Write a better algorithm! Hint: make a dictionary. How much faster is your algorithm?"
      ]
    },
    {
      "cell_type": "code",
      "execution_count": null,
      "metadata": {
        "id": "IABs-gQjYoxa"
      },
      "outputs": [],
      "source": [
        "def all_anagram_lists(word_list):\n",
        "    \"\"\"Finds all anagrams in a list of words.\n",
        "\n",
        "    word_list: sequence of strings\n",
        "    \"\"\"\n",
        "    return {}"
      ]
    },
    {
      "cell_type": "code",
      "execution_count": null,
      "metadata": {
        "id": "QoWSlJ1-Yoxa"
      },
      "outputs": [],
      "source": [
        ""
      ]
    },
    {
      "cell_type": "code",
      "execution_count": null,
      "metadata": {
        "id": "gx7aNFb6Yoxa"
      },
      "outputs": [],
      "source": [
        "%time anagram_map = all_anagram_lists(word_list)"
      ]
    },
    {
      "cell_type": "code",
      "execution_count": null,
      "metadata": {
        "id": "Xa3_WEY8Yoxa"
      },
      "outputs": [],
      "source": [
        "len(anagram_map)"
      ]
    },
    {
      "cell_type": "code",
      "execution_count": null,
      "metadata": {
        "id": "0Pwz0psbYoxa"
      },
      "outputs": [],
      "source": [
        ""
      ]
    },
    {
      "cell_type": "markdown",
      "metadata": {
        "id": "kzyqUx0OYoxa"
      },
      "source": [
        "## Summary\n",
        "\n",
        "What is the point of the examples in this notebook?\n",
        "\n",
        "* The different versions of `is_anagram` show that, when inputs are small, it is hard to say which algorithm will be the fastest. It often depends on details of the implementation. Anyway, the differences tend to be small, so it might not matter much in practice.\n",
        "\n",
        "* The different algorithms we used to search for anagram pairs show that, when inputs are large, we can often tell which algorithm will be fastest. And the difference between a fast algorithm and a slow one can be huge!"
      ]
    },
    {
      "cell_type": "markdown",
      "metadata": {
        "id": "DHnoPuucYoxb"
      },
      "source": [
        "## Exercises\n",
        "\n",
        "Before you work on these exercises, you might want to read the Python [Sorting How-To](https://docs.python.org/3/howto/sorting.html). It uses `lambda` to define an anonymous function, which [you can read about here](https://www.w3schools.com/python/python_lambda.asp).\n",
        "\n",
        "**Exercise 7:**\n",
        "Make a dictionary like `anagram_map` that contains only keys that map to a list with more than one element. You can use a `for` loop to make a new dictionary, or a [dictionary comprehension](https://www.freecodecamp.org/news/dictionary-comprehension-in-python-explained-with-examples/)."
      ]
    },
    {
      "cell_type": "code",
      "source": [
        ""
      ],
      "metadata": {
        "id": "DYlcVSqpZuiZ"
      },
      "execution_count": null,
      "outputs": []
    },
    {
      "cell_type": "markdown",
      "source": [
        ""
      ],
      "metadata": {
        "id": "rIkNYxlqZvQC"
      }
    },
    {
      "cell_type": "code",
      "execution_count": null,
      "metadata": {
        "id": "XXDS3753Yoxb"
      },
      "outputs": [],
      "source": [
        ""
      ]
    },
    {
      "cell_type": "markdown",
      "metadata": {
        "id": "c4BekRYLYoxb"
      },
      "source": [
        "**Exercise 8:**\n",
        "Find the longest word with at least one anagram. Suggestion: use the `key` argument of `sort` or `sorted` ([see here](https://stackoverflow.com/questions/8966538/syntax-behind-sortedkey-lambda))."
      ]
    },
    {
      "cell_type": "code",
      "execution_count": null,
      "metadata": {
        "id": "ktuC9TGTYoxb"
      },
      "outputs": [],
      "source": [
        ""
      ]
    },
    {
      "cell_type": "markdown",
      "metadata": {
        "id": "b38fKGF0Yoxb"
      },
      "source": [
        "**Exercise 9:**\n",
        "Find the largest list of words that are anagrams of each other."
      ]
    },
    {
      "cell_type": "code",
      "execution_count": null,
      "metadata": {
        "id": "GzoiEG_LYoxb"
      },
      "outputs": [],
      "source": [
        ""
      ]
    },
    {
      "cell_type": "markdown",
      "metadata": {
        "id": "ijuy_e_0Yoxb"
      },
      "source": [
        "**Exercise 10:**\n",
        "Write a function that takes an integer `word_length` and finds the longest list of words with the given length that are anagrams of each other."
      ]
    },
    {
      "cell_type": "code",
      "execution_count": null,
      "metadata": {
        "id": "KbqevjLzYoxc"
      },
      "outputs": [],
      "source": [
        ""
      ]
    },
    {
      "cell_type": "code",
      "execution_count": null,
      "metadata": {
        "id": "fj1rKjjvYoxc"
      },
      "outputs": [],
      "source": [
        ""
      ]
    },
    {
      "cell_type": "markdown",
      "metadata": {
        "id": "enz-DhA3Yoxc"
      },
      "source": [
        "**Exercise 11:**\n",
        "At this point we have a data structure that contains lists of words that are anagrams, but we have not actually enumerated all pairs.\n",
        "Write a function that takes `anagram_map` and returns a list of all anagram pairs.\n",
        "How many are there?"
      ]
    },
    {
      "cell_type": "code",
      "execution_count": null,
      "metadata": {
        "id": "c03if75OYoxc"
      },
      "outputs": [],
      "source": [
        ""
      ]
    },
    {
      "cell_type": "code",
      "execution_count": null,
      "metadata": {
        "id": "6WcA2BOFYoxc"
      },
      "outputs": [],
      "source": [
        ""
      ]
    },
    {
      "cell_type": "code",
      "execution_count": null,
      "metadata": {
        "id": "hTcu8quyYoxc"
      },
      "outputs": [],
      "source": [
        ""
      ]
    },
    {
      "cell_type": "code",
      "execution_count": null,
      "metadata": {
        "id": "YP7yNy9vYoxc"
      },
      "outputs": [],
      "source": [
        ""
      ]
    },
    {
      "cell_type": "markdown",
      "metadata": {
        "id": "uvrOk6Y1Yoxc"
      },
      "source": [
        "*Data Structures and Information Retrieval in Python*\n",
        "\n",
        "Copyright 2021 Allen Downey\n",
        "\n",
        "License: [Creative Commons Attribution-NonCommercial-ShareAlike 4.0 International](https://creativecommons.org/licenses/by-nc-sa/4.0/)"
      ]
    }
  ],
  "metadata": {
    "kernelspec": {
      "display_name": "Python 3 (ipykernel)",
      "language": "python",
      "name": "python3"
    },
    "language_info": {
      "codemirror_mode": {
        "name": "ipython",
        "version": 3
      },
      "file_extension": ".py",
      "mimetype": "text/x-python",
      "name": "python",
      "nbconvert_exporter": "python",
      "pygments_lexer": "ipython3",
      "version": "3.10.1"
    },
    "colab": {
      "name": "algorithms.ipynb",
      "provenance": [],
      "include_colab_link": true
    }
  },
  "nbformat": 4,
  "nbformat_minor": 0
}